{
 "cells": [
  {
   "cell_type": "code",
   "execution_count": null,
   "metadata": {},
   "outputs": [],
   "source": [
    "import mitsuba as mi\n",
    "mi.set_variant(\"cuda_ad_rgb\")\n",
    "import numpy as np\n",
    "\n",
    "import wandb\n",
    "\n",
    "import nbimporter\n",
    "nbimporter.options['only_defs'] = False\n",
    "\n",
    "import importlib\n",
    "\n",
    "import testing_scene as ts\n",
    "importlib.reload(ts)\n",
    "\n",
    "import vapl_utils as utils\n",
    "importlib.reload(utils)\n",
    "\n",
    "import torch"
   ]
  },
  {
   "cell_type": "code",
   "execution_count": null,
   "metadata": {},
   "outputs": [],
   "source": [
    "run_name = input(\"Enter run name: \").strip()\n",
    "if not run_name:\n",
    "    run_name = \"custom-loss-function-run\"\n",
    "    \n",
    "num_epochs_input = input(\"Enter number of epoch (default 100): \").strip()\n",
    "num_epochs = int(num_epochs_input) if num_epochs_input.isdigit() else 100\n",
    "\n",
    "wandb.init(\n",
    "    project=\"vapls-training\", \n",
    "    name=run_name,\n",
    "    config={ \n",
    "        \"learning_rate\": 0.001,\n",
    "        \"max_depth\": 4,\n",
    "        \"spp\": 1,\n",
    "        \"num_epochs\": num_epochs,\n",
    "        \"scene\": \"Cornell Box\",  \n",
    "        \"optimizer\": \"Adam\",\n",
    "    },\n",
    ")"
   ]
  },
  {
   "cell_type": "code",
   "execution_count": null,
   "metadata": {},
   "outputs": [],
   "source": [
    "def weighted_loss(real, predicted, weight):\n",
    "    eps = 0.01\n",
    "    mse = (real - predicted) ** 2\n",
    "    norm_factor = (weight * ((predicted ** 2).detach() + eps))\n",
    "    return (mse / (norm_factor +  eps)).mean()\n",
    "\n",
    "loss_function = utils.Loss(weighted_loss)\n",
    "field = utils.vapl_grid(ts.scene.bbox().min, ts.scene.bbox().max, 1, 4, 8).cuda()\n",
    "rhs_integrator = utils.RHSIntegrator(field, loss_function)\n",
    "\n",
    "def should_render(epoch):\n",
    "    if epoch < 50:\n",
    "        return epoch % 5 == 0\n",
    "    elif epoch < 500:\n",
    "        return epoch % 20 == 0\n",
    "    elif epoch < 2000:\n",
    "        return epoch % 100 == 0\n",
    "    else:\n",
    "        return epoch % 250 == 0\n",
    "\n",
    "for epoch in range(num_epochs):\n",
    "    rhs_image = mi.render(ts.scene, spp=1, integrator=rhs_integrator)\n",
    "\n",
    "    wandb.log({\"loss\": rhs_integrator.losses[-1].item(), \"epoch\": epoch})\n",
    "    if (should_render(epoch)):    \n",
    "        wandb.log({\"vapl training\": wandb.Image(np.clip(rhs_image ** (1.0 / 2.2), 0, 1))})\n",
    "\n",
    "wandb.finish()"
   ]
  }
 ],
 "metadata": {
  "kernelspec": {
   "display_name": "Python 3",
   "language": "python",
   "name": "python3"
  },
  "language_info": {
   "codemirror_mode": {
    "name": "ipython",
    "version": 3
   },
   "file_extension": ".py",
   "mimetype": "text/x-python",
   "name": "python",
   "nbconvert_exporter": "python",
   "pygments_lexer": "ipython3",
   "version": "3.10.0"
  }
 },
 "nbformat": 4,
 "nbformat_minor": 2
}
