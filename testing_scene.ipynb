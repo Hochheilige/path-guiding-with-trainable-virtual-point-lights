{
 "cells": [
  {
   "cell_type": "code",
   "execution_count": null,
   "metadata": {},
   "outputs": [],
   "source": [
    "import drjit as dr\n",
    "import mitsuba as mi\n",
    "mi.set_variant(\"cuda_ad_rgb\")\n",
    "import matplotlib.pyplot as plt\n",
    "import numpy as np\n",
    "\n",
    "# default cornell box\n",
    "scene_dict = mi.cornell_box()\n",
    "scene_dict['sphere'] = {\n",
    "    'type': 'sphere',\n",
    "    'radius': 0.4,\n",
    "    'center': [0, 0.2, 0],\n",
    "    'bsdf': {\n",
    "        'type': 'roughconductor',\n",
    "        'distribution': 'ggx',\n",
    "        'alpha_u': 0.5,\n",
    "        'alpha_v': 0.1\n",
    "    }\n",
    "}\n",
    "scene = mi.load_dict(scene_dict)\n",
    "\n",
    "print(scene)\n",
    "image = mi.render(scene, spp=128)\n",
    "fig, ax = plt.subplots()\n",
    "ax.imshow(np.clip(image ** (1.0 / 2.2), 0, 1))\n",
    "ax.axis(\"off\")\n",
    "ax.set_title(f\"VAPL\")\n",
    "ax.scatter(10.0, 10.0, marker=\"o\", color=\"cyan\")\n",
    "plt.show()"
   ]
  }
 ],
 "metadata": {
  "kernelspec": {
   "display_name": "Python 3",
   "language": "python",
   "name": "python3"
  },
  "language_info": {
   "codemirror_mode": {
    "name": "ipython",
    "version": 3
   },
   "file_extension": ".py",
   "mimetype": "text/x-python",
   "name": "python",
   "nbconvert_exporter": "python",
   "pygments_lexer": "ipython3",
   "version": "3.13.2"
  }
 },
 "nbformat": 4,
 "nbformat_minor": 2
}
