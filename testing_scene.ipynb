{
 "cells": [
  {
   "cell_type": "code",
   "execution_count": 3,
   "metadata": {},
   "outputs": [],
   "source": [
    "import mitsuba as mi\n",
    "mi.set_variant(\"cuda_ad_rgb\")\n",
    "\n",
    "# default cornell box\n",
    "scene_dict = mi.cornell_box()\n",
    "scene_dict['sphere'] = {\n",
    "    'type': 'sphere',\n",
    "    'radius': 0.4,\n",
    "    'center': [0, 0.2, 0], \n",
    "    'bsdf': {\n",
    "        'type': 'roughconductor',\n",
    "        'distribution': 'ggx',\n",
    "        'alpha': 0.05\n",
    "    }\n",
    "}\n",
    "scene = mi.load_dict(scene_dict)"
   ]
  }
 ],
 "metadata": {
  "kernelspec": {
   "display_name": "Python 3",
   "language": "python",
   "name": "python3"
  },
  "language_info": {
   "codemirror_mode": {
    "name": "ipython",
    "version": 3
   },
   "file_extension": ".py",
   "mimetype": "text/x-python",
   "name": "python",
   "nbconvert_exporter": "python",
   "pygments_lexer": "ipython3",
   "version": "3.10.0"
  }
 },
 "nbformat": 4,
 "nbformat_minor": 2
}
