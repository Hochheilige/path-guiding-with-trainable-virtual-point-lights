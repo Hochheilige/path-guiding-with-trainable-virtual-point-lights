{
 "cells": [
  {
   "cell_type": "code",
   "execution_count": null,
   "metadata": {},
   "outputs": [],
   "source": [
    "import mitsuba as mi\n",
    "mi.set_variant(\"cuda_ad_rgb\")\n",
    "\n",
    "import numpy as np\n",
    "import matplotlib.pyplot as plt\n",
    "\n",
    "import import_ipynb\n",
    "import importlib\n",
    "\n",
    "import testing_scene as ts\n",
    "importlib.reload(ts)\n",
    "\n",
    "import vapl_utils as utils\n",
    "importlib.reload(utils)\n",
    "\n",
    "import torch\n",
    "\n",
    "# TODO: add visualization graph\n",
    "# from torchviz import make_dot\n",
    "# import torchvision\n",
    "# from torchview import draw_graph\n",
    "\n",
    "import config"
   ]
  },
  {
   "cell_type": "code",
   "execution_count": null,
   "metadata": {},
   "outputs": [],
   "source": [
    "loss_function = utils.Loss(utils.weighted_loss)\n",
    "field = utils.vapl_grid(ts.scene.bbox().min, ts.scene.bbox().max, 3, 4, 8).cuda()\n",
    "rhs_integrator = utils.RHSIntegrator(field, loss_function)\n",
    "\n",
    "def should_render(epoch):\n",
    "    if epoch < 50:\n",
    "        return epoch % 5 == 0\n",
    "    elif epoch < 500:\n",
    "        return epoch % 20 == 0\n",
    "    elif epoch < 2000:\n",
    "        return epoch % 100 == 0\n",
    "    else:\n",
    "        return epoch % 250 == 0\n",
    "\n",
    "for epoch in range(10001):\n",
    "    rhs_integrator.epoch = epoch\n",
    "\n",
    "    rhs_image = mi.render(ts.scene, spp=1, integrator=rhs_integrator)\n",
    "\n",
    "    if (should_render(epoch)):\n",
    "        with torch.no_grad():\n",
    "            gaussians, vmfs = utils.get_all_gaussians(field)\n",
    "\n",
    "            mean = gaussians[:, :3]\n",
    "            utils.print_tensor_stats(mean, \"positions\")\n",
    "            variance = gaussians[:, 3]\n",
    "            amplitude = vmfs[:, 4:7]\n",
    "            axis = vmfs[:, 1:4]\n",
    "\n",
    "            h, w = rhs_image.shape[0], rhs_image.shape[1]\n",
    "\n",
    "            fig, ax = plt.subplots(1, 2, figsize=(12, 6))\n",
    "\n",
    "            ax[0].imshow(np.clip(rhs_image ** (1.0 / 2.2), 0, 1))\n",
    "            ax[0].axis(\"off\")\n",
    "            ax[0].set_title(f\"RHS Image - epoch:{epoch}\")\n",
    "\n",
    "            plot_vapl_means(ts.scene, mean, variance, amplitude,axis, h, w, ax[1])\n",
    "            ax[1].imshow(np.clip(rhs_image ** (1.0 / 2.2), 0, 1))\n",
    "            ax[1].axis(\"off\")\n",
    "            ax[1].set_title(f\"RHS + VAPL - epoch:{epoch}\")\n",
    "\n",
    "            plt.show()"
   ]
  }
 ],
 "metadata": {
  "kernelspec": {
   "display_name": "Python 3",
   "language": "python",
   "name": "python3"
  },
  "language_info": {
   "codemirror_mode": {
    "name": "ipython",
    "version": 3
   },
   "file_extension": ".py",
   "mimetype": "text/x-python",
   "name": "python",
   "nbconvert_exporter": "python",
   "pygments_lexer": "ipython3",
   "version": "3.13.2"
  }
 },
 "nbformat": 4,
 "nbformat_minor": 2
}
