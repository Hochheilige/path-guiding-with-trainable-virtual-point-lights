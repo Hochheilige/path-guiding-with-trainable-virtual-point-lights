{
 "cells": [
  {
   "cell_type": "code",
   "execution_count": null,
   "metadata": {},
   "outputs": [],
   "source": [
    "import mitsuba as mi\n",
    "mi.set_variant(\"cuda_ad_rgb\")\n",
    "\n",
    "import numpy as np\n",
    "import matplotlib.pyplot as plt\n",
    "\n",
    "import nbimporter\n",
    "nbimporter.options['only_defs'] = False\n",
    "\n",
    "import importlib\n",
    "\n",
    "import testing_scene as ts\n",
    "importlib.reload(ts)\n",
    "\n",
    "import vapl_utils as utils\n",
    "importlib.reload(utils)\n"
   ]
  },
  {
   "cell_type": "code",
   "execution_count": null,
   "metadata": {},
   "outputs": [],
   "source": [
    "def weighted_loss(real, predicted, weight):\n",
    "    eps = 0.01\n",
    "    mse = (real - predicted) ** 2\n",
    "    norm_factor = (weight * ((predicted ** 2).detach() + eps))\n",
    "    return (mse / (norm_factor +  eps)).mean()\n",
    "\n",
    "loss_function = utils.Loss(weighted_loss)\n",
    "field = utils.vapl_grid(ts.scene.bbox().min, ts.scene.bbox().max, 1, 4, 8).cuda()\n",
    "rhs_integrator = utils.RHSIntegrator(field, loss_function)\n",
    "\n",
    "def should_render(epoch):\n",
    "    if epoch < 50:\n",
    "        return epoch % 5 == 0\n",
    "    elif epoch < 500:\n",
    "        return epoch % 20 == 0\n",
    "    elif epoch < 2000:\n",
    "        return epoch % 100 == 0\n",
    "    else:\n",
    "        return epoch % 250 == 0\n",
    "\n",
    "for epoch in range(101):\n",
    "    rhs_integrator.epoch = epoch\n",
    "\n",
    "    rhs_image = mi.render(ts.scene, spp=1, integrator=rhs_integrator)\n",
    "\n",
    "    if (should_render(epoch)):    \n",
    "        fig, ax = plt.subplots()\n",
    "        ax.imshow(np.clip(rhs_image ** (1.0 / 2.2), 0, 1))\n",
    "        ax.axis(\"off\")\n",
    "        ax.set_title(f\"VAPL epoch:{epoch}\")\n",
    "        plt.show()\n"
   ]
  }
 ],
 "metadata": {
  "kernelspec": {
   "display_name": "Python 3",
   "language": "python",
   "name": "python3"
  },
  "language_info": {
   "codemirror_mode": {
    "name": "ipython",
    "version": 3
   },
   "file_extension": ".py",
   "mimetype": "text/x-python",
   "name": "python",
   "nbconvert_exporter": "python",
   "pygments_lexer": "ipython3",
   "version": "3.10.0"
  }
 },
 "nbformat": 4,
 "nbformat_minor": 2
}
