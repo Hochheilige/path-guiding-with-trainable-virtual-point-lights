{
 "cells": [
  {
   "cell_type": "code",
   "execution_count": null,
   "metadata": {},
   "outputs": [],
   "source": [
    "import mitsuba as mi\n",
    "mi.set_variant(\"cuda_ad_rgb\")\n",
    "import importlib\n",
    "import application\n",
    "import vapl_config \n",
    "import vapl_grid\n",
    "import vapl_utils\n",
    "import integrator\n",
    "importlib.reload(vapl_config)\n",
    "importlib.reload(application)\n",
    "importlib.reload(vapl_grid)\n",
    "importlib.reload(vapl_utils)\n",
    "importlib.reload(integrator)\n",
    "\n",
    "app = application.Application(vapl_config.config)\n",
    "app.train()"
   ]
  }
 ],
 "metadata": {
  "kernelspec": {
   "display_name": "Python 3",
   "language": "python",
   "name": "python3"
  },
  "language_info": {
   "codemirror_mode": {
    "name": "ipython",
    "version": 3
   },
   "file_extension": ".py",
   "mimetype": "text/x-python",
   "name": "python",
   "nbconvert_exporter": "python",
   "pygments_lexer": "ipython3",
   "version": "3.13.2"
  }
 },
 "nbformat": 4,
 "nbformat_minor": 2
}
