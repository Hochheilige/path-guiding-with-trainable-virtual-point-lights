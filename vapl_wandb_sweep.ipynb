{
 "cells": [
  {
   "cell_type": "code",
   "execution_count": null,
   "id": "d71fbcfe",
   "metadata": {},
   "outputs": [],
   "source": [
    "import wandb\n",
    "import mitsuba as mi\n",
    "mi.set_variant(\"cuda_ad_rgb\")\n",
    "\n",
    "import numpy as np\n",
    "import matplotlib.pyplot as plt\n",
    "\n",
    "import import_ipynb\n",
    "import importlib\n",
    "\n",
    "import testing_scene as ts\n",
    "importlib.reload(ts)\n",
    "\n",
    "import vapl_utils as utils\n",
    "importlib.reload(utils)\n",
    "\n",
    "sweep_config = {\n",
    "    \"method\": \"bayes\",\n",
    "    \"metric\": {\n",
    "        \"name\": \"loss\",\n",
    "        \"goal\": \"minimize\"\n",
    "    },\n",
    "    \"parameters\": {\n",
    "        \"gaussian_mean_encoding\": {\n",
    "            \"values\": [\"raw\", \"eps-norm\", \"min-max-norm\"]\n",
    "        },\n",
    "        \"gaussian_variance_encoding\": {\n",
    "            \"values\": [\"exp\", \"sigmoid\", \"softplus\"]\n",
    "        },\n",
    "        \"vmf_sharpness_encoding\": {\n",
    "            \"values\": [\"exp\", \"relu\", \"sigmoid\", \"softplus\"]\n",
    "        },\n",
    "        \"vmf_axis_encoding\": {\n",
    "            \"values\": [\"raw\", \"normalize\", \"spherical\", \"spherical-norm\"]\n",
    "        },\n",
    "        \"vmf_amplitude_encoding\": {\n",
    "            \"values\": [\"relu\", \"softplus\", \"exp\"]\n",
    "        },\n",
    "        \"learning_rate\": {\n",
    "            \"values\":[0.001, 0.0001]\n",
    "        },\n",
    "        \"epoch\": {\"values\": [200]}\n",
    "    },\n",
    "}"
   ]
  },
  {
   "cell_type": "code",
   "execution_count": null,
   "id": "42d583b9",
   "metadata": {},
   "outputs": [],
   "source": [
    "def weighted_loss(real, predicted, weight):\n",
    "    eps = 0.01\n",
    "    mse = (real - predicted) ** 2\n",
    "    norm_factor = (weight * (predicted ** 2).detach() + eps)\n",
    "    return (mse / (norm_factor + eps)).mean()\n",
    "\n",
    "loss_function = utils.Loss(weighted_loss)\n",
    "\n",
    "def main():\n",
    "    wandb.init(\"vapls-parameters-encodings-search\")\n",
    "    field = utils.vapl_grid(ts.scene.bbox().min, ts.scene.bbox().max, 1, 4, 8, wandb.config).cuda()\n",
    "    rhs_integrator = utils.RHSIntegrator(field, loss_function)\n",
    "\n",
    "    for epoch in range(wandb.config.epoch):\n",
    "        rhs_image = mi.render(ts.scene, spp=1, integrator=rhs_integrator)\n",
    "        wandb.log({\"loss\": rhs_integrator.losses[-1].item(), \"epoch\": epoch})\n",
    "\n",
    "wandb.login()\n",
    "sweep_id = wandb.sweep(sweep_config, project=\"vapl-sweep-test\")\n",
    "wandb.agent(sweep_id, main)"
   ]
  }
 ],
 "metadata": {
  "kernelspec": {
   "display_name": "Python 3",
   "language": "python",
   "name": "python3"
  },
  "language_info": {
   "codemirror_mode": {
    "name": "ipython",
    "version": 3
   },
   "file_extension": ".py",
   "mimetype": "text/x-python",
   "name": "python",
   "nbconvert_exporter": "python",
   "pygments_lexer": "ipython3",
   "version": "3.13.2"
  }
 },
 "nbformat": 4,
 "nbformat_minor": 5
}
