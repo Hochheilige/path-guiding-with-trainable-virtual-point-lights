{
 "cells": [
  {
   "cell_type": "code",
   "execution_count": null,
   "id": "d71fbcfe",
   "metadata": {},
   "outputs": [],
   "source": [
    "import mitsuba as mi\n",
    "mi.set_variant(\"cuda_ad_rgb\")\n",
    "import importlib\n",
    "import application\n",
    "import vapl_config \n",
    "import vapl_grid\n",
    "import vapl_utils\n",
    "import integrator\n",
    "importlib.reload(vapl_config)\n",
    "importlib.reload(application)\n",
    "importlib.reload(vapl_grid)\n",
    "importlib.reload(vapl_utils)\n",
    "importlib.reload(integrator)\n",
    "\n",
    "import wandb\n",
    "\n",
    "sweep_config = {\n",
    "    \"method\": \"bayes\",\n",
    "    \"metric\": {\n",
    "        \"name\": \"loss\",\n",
    "        \"goal\": \"minimize\"\n",
    "    },\n",
    "    \"parameters\": {\n",
    "        \"gaussian_mean_encoding\": {\n",
    "            \"values\": [\"raw\", \"eps-norm\", \"min-max-norm\"]\n",
    "        },\n",
    "        \"gaussian_variance_encoding\": {\n",
    "            \"values\": [\"exp\", \"sigmoid\", \"softplus\", \"tanh\"]\n",
    "        },\n",
    "        \"vmf_sharpness_encoding\": {\n",
    "            \"values\": [\"exp\", \"relu\", \"sigmoid\", \"softplus\", \"tanh\"]\n",
    "        },\n",
    "        \"vmf_axis_encoding\": {\n",
    "            \"values\": [\"raw\", \"normalize\", \"spherical\", \"spherical-norm\"]\n",
    "        },\n",
    "        \"vmf_amplitude_encoding\": {\n",
    "            \"values\": [\"relu\", \"softplus\", \"exp\", \"tanh\"]\n",
    "        },\n",
    "        \"epoch\": {\"values\": [200]}\n",
    "    },\n",
    "}\n",
    "\n",
    "vapl_config.config.mode = \"sweep\""
   ]
  },
  {
   "cell_type": "code",
   "execution_count": null,
   "id": "42d583b9",
   "metadata": {},
   "outputs": [],
   "source": [
    "\n",
    "wandb.login()\n",
    "app = application.Application(vapl_config.config)\n",
    "sweep_id = wandb.sweep(sweep_config, project=\"vapl-sweep-test\")\n",
    "wandb.agent(sweep_id, app.sweep)\n",
    "\n"
   ]
  }
 ],
 "metadata": {
  "kernelspec": {
   "display_name": "Python 3",
   "language": "python",
   "name": "python3"
  },
  "language_info": {
   "codemirror_mode": {
    "name": "ipython",
    "version": 3
   },
   "file_extension": ".py",
   "mimetype": "text/x-python",
   "name": "python",
   "nbconvert_exporter": "python",
   "pygments_lexer": "ipython3",
   "version": "3.13.2"
  }
 },
 "nbformat": 4,
 "nbformat_minor": 5
}
